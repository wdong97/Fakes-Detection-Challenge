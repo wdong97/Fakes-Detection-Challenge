{
  "nbformat": 4,
  "nbformat_minor": 0,
  "metadata": {
    "colab": {
      "name": "NLP_Final_Subsets.ipynb",
      "provenance": [],
      "toc_visible": true
    },
    "kernelspec": {
      "name": "python3",
      "display_name": "Python 3"
    },
    "accelerator": "GPU"
  },
  "cells": [
    {
      "cell_type": "markdown",
      "metadata": {
        "id": "Fwz5fGre3Mt8",
        "colab_type": "text"
      },
      "source": [
        "# Import Libraries and Set Up Data"
      ]
    },
    {
      "cell_type": "code",
      "metadata": {
        "id": "eMaQs_2J2T8s",
        "colab_type": "code",
        "colab": {}
      },
      "source": [
        "# import necessary libraries \n",
        "import pandas as pd\n",
        "import tensorflow as tf\n",
        "import os\n",
        "import re\n",
        "import numpy as np\n",
        "from string import punctuation\n",
        "from zipfile import ZipFile\n",
        "from sklearn.model_selection import train_test_split\n",
        "import matplotlib.pyplot as plt"
      ],
      "execution_count": 0,
      "outputs": []
    },
    {
      "cell_type": "code",
      "metadata": {
        "id": "6wFmJ0cM29Od",
        "colab_type": "code",
        "colab": {}
      },
      "source": [
        "# importing neural network libraries\n",
        "import tensorflow as tf\n",
        "from tensorflow.keras.preprocessing.text import Tokenizer\n",
        "from tensorflow.keras.preprocessing.sequence import pad_sequences\n",
        "from tensorflow.keras.models import Sequential\n",
        "from tensorflow.keras.layers import Dense, Dropout, Embedding, GRU, LSTM, RNN, SpatialDropout1D"
      ],
      "execution_count": 0,
      "outputs": []
    },
    {
      "cell_type": "markdown",
      "metadata": {
        "id": "FWMXm_ex7Flv",
        "colab_type": "text"
      },
      "source": [
        "## Turn Text Files into Pandas"
      ]
    },
    {
      "cell_type": "code",
      "metadata": {
        "id": "9dYNa_ni7Dro",
        "colab_type": "code",
        "colab": {}
      },
      "source": [
        "def text2pandas(text):\n",
        "    \n",
        "    dataList = []\n",
        "    article = [text[0]]\n",
        "    \n",
        "    for line in text[1:]:\n",
        "        if not line.isspace():\n",
        "            line = line.strip('\\n')\n",
        "            if line.startswith(\" = \", 0):\n",
        "                title = article[0].split(' = ')\n",
        "                article[0] = title[1]\n",
        "                article[1:] = [''.join(article[1:])] \n",
        "                dataList.append(article)\n",
        "                article = []    \n",
        "            \n",
        "            elif line.startswith(\" == \", 0):\n",
        "                continue\n",
        "                \n",
        "            article.append(line)\n",
        "         \n",
        "    dataFrame = pd.DataFrame(dataList, columns = ['Title', 'Corpus']) \n",
        "    \n",
        "    return dataFrame"
      ],
      "execution_count": 0,
      "outputs": []
    },
    {
      "cell_type": "code",
      "metadata": {
        "id": "jnKqA_Fj7MFx",
        "colab_type": "code",
        "colab": {}
      },
      "source": [
        "# Import .txt files and convert to pandas DataFrames\n",
        "\n",
        "with open(\"bio.fake.txt\") as f:  \n",
        "    data_fakes = f.readlines() \n",
        "    data_fakesPD = text2pandas(data_fakes)\n",
        "    \n",
        "with open(\"bio.test.txt\") as f: \n",
        "    data_test = f.readlines() \n",
        "    data_testPD = text2pandas(data_test)\n",
        "    \n",
        "with open(\"bio.train.txt\") as f: \n",
        "    data_train = f.readlines() \n",
        "    data_trainPD = text2pandas(data_train)\n",
        "    \n",
        "with open(\"bio.valid.txt\") as f: \n",
        "    data_valid = f.readlines() \n",
        "    data_validPD = text2pandas(data_valid)"
      ],
      "execution_count": 0,
      "outputs": []
    },
    {
      "cell_type": "code",
      "metadata": {
        "id": "PS1ZeYcC7mij",
        "colab_type": "code",
        "colab": {}
      },
      "source": [
        "data_fakesPD['Label'] = 1"
      ],
      "execution_count": 0,
      "outputs": []
    },
    {
      "cell_type": "code",
      "metadata": {
        "id": "nh0P3f44-IYD",
        "colab_type": "code",
        "colab": {}
      },
      "source": [
        "#Assign Labels\n",
        "data_trainPD['Label'] = 0\n",
        "data_validPD['Label'] = 0"
      ],
      "execution_count": 0,
      "outputs": []
    },
    {
      "cell_type": "code",
      "metadata": {
        "id": "kfPwZvlP_DVy",
        "colab_type": "code",
        "colab": {}
      },
      "source": [
        "#Concat reals and fakes\n",
        "training_df = pd.concat([data_trainPD,data_fakesPD])"
      ],
      "execution_count": 0,
      "outputs": []
    },
    {
      "cell_type": "code",
      "metadata": {
        "id": "FOF5Jc-k3HMq",
        "colab_type": "code",
        "colab": {}
      },
      "source": [
        "train_data = training_df.copy()\n",
        "test_data = data_testPD.copy()"
      ],
      "execution_count": 0,
      "outputs": []
    },
    {
      "cell_type": "code",
      "metadata": {
        "id": "q2tfnV0-9Re_",
        "colab_type": "code",
        "outputId": "d8b324fb-5ffd-4527-a8c8-ef4a305035bf",
        "colab": {
          "base_uri": "https://localhost:8080/",
          "height": 221
        }
      },
      "source": [
        "print(train_data.shape)\n",
        "train_data.head()"
      ],
      "execution_count": 11,
      "outputs": [
        {
          "output_type": "stream",
          "text": [
            "(19300, 3)\n"
          ],
          "name": "stdout"
        },
        {
          "output_type": "execute_result",
          "data": {
            "text/html": [
              "<div>\n",
              "<style scoped>\n",
              "    .dataframe tbody tr th:only-of-type {\n",
              "        vertical-align: middle;\n",
              "    }\n",
              "\n",
              "    .dataframe tbody tr th {\n",
              "        vertical-align: top;\n",
              "    }\n",
              "\n",
              "    .dataframe thead th {\n",
              "        text-align: right;\n",
              "    }\n",
              "</style>\n",
              "<table border=\"1\" class=\"dataframe\">\n",
              "  <thead>\n",
              "    <tr style=\"text-align: right;\">\n",
              "      <th></th>\n",
              "      <th>Title</th>\n",
              "      <th>Corpus</th>\n",
              "      <th>Label</th>\n",
              "    </tr>\n",
              "  </thead>\n",
              "  <tbody>\n",
              "    <tr>\n",
              "      <th>0</th>\n",
              "      <td>\\n</td>\n",
              "      <td>Alfonso ( Alphonsus ) Salmerón ( 8 September 1...</td>\n",
              "      <td>0</td>\n",
              "    </tr>\n",
              "    <tr>\n",
              "      <th>1</th>\n",
              "      <td>Cecil Reginald Burch</td>\n",
              "      <td>Cecil Reginald Burch , FRS ( 12 May 1901 – 19 ...</td>\n",
              "      <td>0</td>\n",
              "    </tr>\n",
              "    <tr>\n",
              "      <th>2</th>\n",
              "      <td>Charles Claude Guthrie</td>\n",
              "      <td>Charles Claude Guthrie ( September 26 , 1880 –...</td>\n",
              "      <td>0</td>\n",
              "    </tr>\n",
              "    <tr>\n",
              "      <th>3</th>\n",
              "      <td>Joachim Albertini</td>\n",
              "      <td>Joachim Albertini or Gioacchino Albertini ( 30...</td>\n",
              "      <td>0</td>\n",
              "    </tr>\n",
              "    <tr>\n",
              "      <th>4</th>\n",
              "      <td>Franklin Tanner Pember</td>\n",
              "      <td>Franklin Tanner Pember ( November 2 , 1841 – A...</td>\n",
              "      <td>0</td>\n",
              "    </tr>\n",
              "  </tbody>\n",
              "</table>\n",
              "</div>"
            ],
            "text/plain": [
              "                    Title  ... Label\n",
              "0                      \\n  ...     0\n",
              "1    Cecil Reginald Burch  ...     0\n",
              "2  Charles Claude Guthrie  ...     0\n",
              "3       Joachim Albertini  ...     0\n",
              "4  Franklin Tanner Pember  ...     0\n",
              "\n",
              "[5 rows x 3 columns]"
            ]
          },
          "metadata": {
            "tags": []
          },
          "execution_count": 11
        }
      ]
    },
    {
      "cell_type": "code",
      "metadata": {
        "id": "vqEyJKL19T8J",
        "colab_type": "code",
        "outputId": "a05bf686-b300-40dd-89a7-c3a452996da2",
        "colab": {
          "base_uri": "https://localhost:8080/",
          "height": 221
        }
      },
      "source": [
        "print(test_data.shape)\n",
        "test_data.head()"
      ],
      "execution_count": 12,
      "outputs": [
        {
          "output_type": "stream",
          "text": [
            "(1001, 2)\n"
          ],
          "name": "stdout"
        },
        {
          "output_type": "execute_result",
          "data": {
            "text/html": [
              "<div>\n",
              "<style scoped>\n",
              "    .dataframe tbody tr th:only-of-type {\n",
              "        vertical-align: middle;\n",
              "    }\n",
              "\n",
              "    .dataframe tbody tr th {\n",
              "        vertical-align: top;\n",
              "    }\n",
              "\n",
              "    .dataframe thead th {\n",
              "        text-align: right;\n",
              "    }\n",
              "</style>\n",
              "<table border=\"1\" class=\"dataframe\">\n",
              "  <thead>\n",
              "    <tr style=\"text-align: right;\">\n",
              "      <th></th>\n",
              "      <th>Title</th>\n",
              "      <th>Corpus</th>\n",
              "    </tr>\n",
              "  </thead>\n",
              "  <tbody>\n",
              "    <tr>\n",
              "      <th>0</th>\n",
              "      <td>\\n</td>\n",
              "      <td>Jan Krejčí ( 28 February 1825 Klatovy – 1 Augu...</td>\n",
              "    </tr>\n",
              "    <tr>\n",
              "      <th>1</th>\n",
              "      <td>Albert Ernest Radford</td>\n",
              "      <td>Albert Ernest Radford ( January 25 , 1918 – Ap...</td>\n",
              "    </tr>\n",
              "    <tr>\n",
              "      <th>2</th>\n",
              "      <td>Omar Saidou Tall</td>\n",
              "      <td>al-Hajj Omar Saidou Tall ( Umar ibn Sa'id al-F...</td>\n",
              "    </tr>\n",
              "    <tr>\n",
              "      <th>3</th>\n",
              "      <td>Paul Harteck</td>\n",
              "      <td>Paul Karl Maria Harteck ( 20 July 1902 – 22 Ja...</td>\n",
              "    </tr>\n",
              "    <tr>\n",
              "      <th>4</th>\n",
              "      <td>William John Tulloch</td>\n",
              "      <td>Prof William John Tulloch MD FRSE ( 1887–1966 ...</td>\n",
              "    </tr>\n",
              "  </tbody>\n",
              "</table>\n",
              "</div>"
            ],
            "text/plain": [
              "                   Title                                             Corpus\n",
              "0                     \\n  Jan Krejčí ( 28 February 1825 Klatovy – 1 Augu...\n",
              "1  Albert Ernest Radford  Albert Ernest Radford ( January 25 , 1918 – Ap...\n",
              "2       Omar Saidou Tall  al-Hajj Omar Saidou Tall ( Umar ibn Sa'id al-F...\n",
              "3           Paul Harteck  Paul Karl Maria Harteck ( 20 July 1902 – 22 Ja...\n",
              "4   William John Tulloch  Prof William John Tulloch MD FRSE ( 1887–1966 ..."
            ]
          },
          "metadata": {
            "tags": []
          },
          "execution_count": 12
        }
      ]
    },
    {
      "cell_type": "code",
      "metadata": {
        "id": "Nq-sDEUPALkO",
        "colab_type": "code",
        "colab": {}
      },
      "source": [
        "#Drop first line for now\n",
        "validation_data = data_validPD.drop(data_validPD.index[0])\n",
        "train_data = train_data.drop(train_data.index[0])\n",
        "test_data = test_data.drop(test_data.index[0])"
      ],
      "execution_count": 0,
      "outputs": []
    },
    {
      "cell_type": "code",
      "metadata": {
        "id": "og7148Us9dLL",
        "colab_type": "code",
        "outputId": "50564507-4c1f-44b2-9034-5978c4202780",
        "colab": {
          "base_uri": "https://localhost:8080/",
          "height": 85
        }
      },
      "source": [
        "# checking for missing values\n",
        "train_data.isnull().sum()"
      ],
      "execution_count": 14,
      "outputs": [
        {
          "output_type": "execute_result",
          "data": {
            "text/plain": [
              "Title     0\n",
              "Corpus    0\n",
              "Label     0\n",
              "dtype: int64"
            ]
          },
          "metadata": {
            "tags": []
          },
          "execution_count": 14
        }
      ]
    },
    {
      "cell_type": "code",
      "metadata": {
        "id": "hdCLpMYX94LW",
        "colab_type": "code",
        "outputId": "1b91d2d1-73ed-4a5e-8287-a037c530a1a8",
        "colab": {
          "base_uri": "https://localhost:8080/",
          "height": 204
        }
      },
      "source": [
        "#Get the size of each article and add a column for it\n",
        "length = []\n",
        "[length.append(len(str(text))) for text in train_data['Corpus']]\n",
        "train_data['Length'] = length\n",
        "train_data.head()"
      ],
      "execution_count": 15,
      "outputs": [
        {
          "output_type": "execute_result",
          "data": {
            "text/html": [
              "<div>\n",
              "<style scoped>\n",
              "    .dataframe tbody tr th:only-of-type {\n",
              "        vertical-align: middle;\n",
              "    }\n",
              "\n",
              "    .dataframe tbody tr th {\n",
              "        vertical-align: top;\n",
              "    }\n",
              "\n",
              "    .dataframe thead th {\n",
              "        text-align: right;\n",
              "    }\n",
              "</style>\n",
              "<table border=\"1\" class=\"dataframe\">\n",
              "  <thead>\n",
              "    <tr style=\"text-align: right;\">\n",
              "      <th></th>\n",
              "      <th>Title</th>\n",
              "      <th>Corpus</th>\n",
              "      <th>Label</th>\n",
              "      <th>Length</th>\n",
              "    </tr>\n",
              "  </thead>\n",
              "  <tbody>\n",
              "    <tr>\n",
              "      <th>1</th>\n",
              "      <td>Cecil Reginald Burch</td>\n",
              "      <td>Cecil Reginald Burch , FRS ( 12 May 1901 – 19 ...</td>\n",
              "      <td>0</td>\n",
              "      <td>942</td>\n",
              "    </tr>\n",
              "    <tr>\n",
              "      <th>2</th>\n",
              "      <td>Charles Claude Guthrie</td>\n",
              "      <td>Charles Claude Guthrie ( September 26 , 1880 –...</td>\n",
              "      <td>0</td>\n",
              "      <td>1199</td>\n",
              "    </tr>\n",
              "    <tr>\n",
              "      <th>3</th>\n",
              "      <td>Joachim Albertini</td>\n",
              "      <td>Joachim Albertini or Gioacchino Albertini ( 30...</td>\n",
              "      <td>0</td>\n",
              "      <td>1633</td>\n",
              "    </tr>\n",
              "    <tr>\n",
              "      <th>4</th>\n",
              "      <td>Franklin Tanner Pember</td>\n",
              "      <td>Franklin Tanner Pember ( November 2 , 1841 – A...</td>\n",
              "      <td>0</td>\n",
              "      <td>2201</td>\n",
              "    </tr>\n",
              "    <tr>\n",
              "      <th>5</th>\n",
              "      <td>Lothar Wolfgang Nordheim</td>\n",
              "      <td>Lothar Wolfgang Nordheim ( November 7 , 1899 ,...</td>\n",
              "      <td>0</td>\n",
              "      <td>1468</td>\n",
              "    </tr>\n",
              "  </tbody>\n",
              "</table>\n",
              "</div>"
            ],
            "text/plain": [
              "                      Title  ... Length\n",
              "1      Cecil Reginald Burch  ...    942\n",
              "2    Charles Claude Guthrie  ...   1199\n",
              "3         Joachim Albertini  ...   1633\n",
              "4    Franklin Tanner Pember  ...   2201\n",
              "5  Lothar Wolfgang Nordheim  ...   1468\n",
              "\n",
              "[5 rows x 4 columns]"
            ]
          },
          "metadata": {
            "tags": []
          },
          "execution_count": 15
        }
      ]
    },
    {
      "cell_type": "code",
      "metadata": {
        "id": "NzuJZ2Yo-Esn",
        "colab_type": "code",
        "outputId": "2cd53a82-49c7-452b-e8de-3441b9c4506a",
        "colab": {
          "base_uri": "https://localhost:8080/",
          "height": 34
        }
      },
      "source": [
        "#check for weird cases of text length\n",
        "min(train_data['Length']), max(train_data['Length']), round(sum(train_data['Length'])/len(train_data['Length']))"
      ],
      "execution_count": 16,
      "outputs": [
        {
          "output_type": "execute_result",
          "data": {
            "text/plain": [
              "(0, 141974, 4153)"
            ]
          },
          "metadata": {
            "tags": []
          },
          "execution_count": 16
        }
      ]
    },
    {
      "cell_type": "code",
      "metadata": {
        "id": "Q8SrST6I-SuC",
        "colab_type": "code",
        "outputId": "e09a5014-ee9d-4041-d950-6603be15fb39",
        "colab": {
          "base_uri": "https://localhost:8080/",
          "height": 34
        }
      },
      "source": [
        "#check how many texts are less than 50 words long, classify them as outliers, and remove them\n",
        "len(train_data[train_data['Length'] < 50])"
      ],
      "execution_count": 17,
      "outputs": [
        {
          "output_type": "execute_result",
          "data": {
            "text/plain": [
              "81"
            ]
          },
          "metadata": {
            "tags": []
          },
          "execution_count": 17
        }
      ]
    },
    {
      "cell_type": "code",
      "metadata": {
        "id": "3Ezj4Bc1-fMb",
        "colab_type": "code",
        "colab": {}
      },
      "source": [
        "# dropping the outliers\n",
        "train_data = train_data.drop(train_data['Corpus'][train_data['Length'] < 50].index, axis = 0)"
      ],
      "execution_count": 0,
      "outputs": []
    },
    {
      "cell_type": "code",
      "metadata": {
        "id": "U0KNs-bR-mL9",
        "colab_type": "code",
        "outputId": "7d0cf5bb-601d-4ba3-f870-0f81bce9fd79",
        "colab": {
          "base_uri": "https://localhost:8080/",
          "height": 34
        }
      },
      "source": [
        "#look at our data dimensions again\n",
        "min(train_data['Length']), max(train_data['Length']), round(sum(train_data['Length'])/len(train_data['Length']))"
      ],
      "execution_count": 19,
      "outputs": [
        {
          "output_type": "execute_result",
          "data": {
            "text/plain": [
              "(52, 141974, 4169)"
            ]
          },
          "metadata": {
            "tags": []
          },
          "execution_count": 19
        }
      ]
    },
    {
      "cell_type": "markdown",
      "metadata": {
        "id": "PkshtvVP8XoX",
        "colab_type": "text"
      },
      "source": [
        "# Create Test Set from train data"
      ]
    },
    {
      "cell_type": "code",
      "metadata": {
        "id": "sqjybBQB9BLn",
        "colab_type": "code",
        "colab": {}
      },
      "source": [
        "train_data2 = train_data.copy()"
      ],
      "execution_count": 0,
      "outputs": []
    },
    {
      "cell_type": "code",
      "metadata": {
        "id": "W-hlMU3n9fDF",
        "colab_type": "code",
        "outputId": "21f65826-1fff-41e8-a023-c4e56cb44d71",
        "colab": {
          "base_uri": "https://localhost:8080/",
          "height": 34
        }
      },
      "source": [
        "train_data2.shape"
      ],
      "execution_count": 21,
      "outputs": [
        {
          "output_type": "execute_result",
          "data": {
            "text/plain": [
              "(19199, 4)"
            ]
          },
          "metadata": {
            "tags": []
          },
          "execution_count": 21
        }
      ]
    },
    {
      "cell_type": "code",
      "metadata": {
        "id": "MFCo7gqx8cv2",
        "colab_type": "code",
        "colab": {}
      },
      "source": [
        "#shuffle dataframe\n",
        "train_data2 = train_data2.sample(frac=1)"
      ],
      "execution_count": 0,
      "outputs": []
    },
    {
      "cell_type": "code",
      "metadata": {
        "id": "T_Rpx_VB80hd",
        "colab_type": "code",
        "colab": {}
      },
      "source": [
        "train_data = train_data2[0:15359]\n",
        "test_data = train_data2[15359:]"
      ],
      "execution_count": 0,
      "outputs": []
    },
    {
      "cell_type": "markdown",
      "metadata": {
        "id": "IRcByOHOv_EW",
        "colab_type": "text"
      },
      "source": [
        "##Subset the data for faster training and experiments"
      ]
    },
    {
      "cell_type": "code",
      "metadata": {
        "id": "3kVb8Oa7wCq4",
        "colab_type": "code",
        "colab": {}
      },
      "source": [
        "scale_factor = 0.2\n",
        "train_data = train_data.sample(frac = 1)\n",
        "test_data = test_data.sample(frac = 1)\n",
        "sub_train = train_data[0:int(np.round(train_data.shape[0]*scale_factor))]\n",
        "sub_test = test_data[0:int(np.round(test_data.shape[0]*scale_factor))]"
      ],
      "execution_count": 0,
      "outputs": []
    },
    {
      "cell_type": "code",
      "metadata": {
        "id": "xhtsuO9QCb5_",
        "colab_type": "code",
        "colab": {
          "base_uri": "https://localhost:8080/",
          "height": 328
        },
        "outputId": "2a838569-0914-479e-b802-21ca6036ffb2"
      },
      "source": [
        "sub_test[sub_test['Label'] == 1]"
      ],
      "execution_count": 94,
      "outputs": [
        {
          "output_type": "execute_result",
          "data": {
            "text/html": [
              "<div>\n",
              "<style scoped>\n",
              "    .dataframe tbody tr th:only-of-type {\n",
              "        vertical-align: middle;\n",
              "    }\n",
              "\n",
              "    .dataframe tbody tr th {\n",
              "        vertical-align: top;\n",
              "    }\n",
              "\n",
              "    .dataframe thead th {\n",
              "        text-align: right;\n",
              "    }\n",
              "</style>\n",
              "<table border=\"1\" class=\"dataframe\">\n",
              "  <thead>\n",
              "    <tr style=\"text-align: right;\">\n",
              "      <th></th>\n",
              "      <th>Title</th>\n",
              "      <th>Corpus</th>\n",
              "      <th>Label</th>\n",
              "      <th>Length</th>\n",
              "    </tr>\n",
              "  </thead>\n",
              "  <tbody>\n",
              "    <tr>\n",
              "      <th>327</th>\n",
              "      <td>William Boynton Beechey</td>\n",
              "      <td>William Boynton Beechey ( 17 July 1839 – 26 Ma...</td>\n",
              "      <td>1</td>\n",
              "      <td>3422</td>\n",
              "    </tr>\n",
              "    <tr>\n",
              "      <th>720</th>\n",
              "      <td>Melisides de Barros</td>\n",
              "      <td>Melisides de Barros ( Spanish : M. Barros ; 8 ...</td>\n",
              "      <td>1</td>\n",
              "      <td>3645</td>\n",
              "    </tr>\n",
              "    <tr>\n",
              "      <th>830</th>\n",
              "      <td>José T C3 A9rico Cardona de Las Casas Villanueva</td>\n",
              "      <td>Jose Tárico Cardona de Las Casas Villanueva ( ...</td>\n",
              "      <td>1</td>\n",
              "      <td>1879</td>\n",
              "    </tr>\n",
              "    <tr>\n",
              "      <th>530</th>\n",
              "      <td>Vladimir Bukovin</td>\n",
              "      <td>Vladimir Aleksandrovich Bukovin ( Russian : Вл...</td>\n",
              "      <td>1</td>\n",
              "      <td>1613</td>\n",
              "    </tr>\n",
              "    <tr>\n",
              "      <th>311</th>\n",
              "      <td>Josef Kring</td>\n",
              "      <td>Josef Kring ( 20 September 1863 in Hegerfurt, ...</td>\n",
              "      <td>1</td>\n",
              "      <td>6552</td>\n",
              "    </tr>\n",
              "    <tr>\n",
              "      <th>737</th>\n",
              "      <td>Leon Petri</td>\n",
              "      <td>Leonor Petri ( 15 July 1843 – 24 August 1912 )...</td>\n",
              "      <td>1</td>\n",
              "      <td>1119</td>\n",
              "    </tr>\n",
              "    <tr>\n",
              "      <th>536</th>\n",
              "      <td>Norman D. Wofford</td>\n",
              "      <td>Norman D. Wofford ( April 9, 1909 – May 23, 19...</td>\n",
              "      <td>1</td>\n",
              "      <td>1374</td>\n",
              "    </tr>\n",
              "    <tr>\n",
              "      <th>730</th>\n",
              "      <td>Paul Konrad Kurloten</td>\n",
              "      <td>Paul Konrad Kurloten ( Russian : Филовид Понов...</td>\n",
              "      <td>1</td>\n",
              "      <td>3813</td>\n",
              "    </tr>\n",
              "    <tr>\n",
              "      <th>301</th>\n",
              "      <td>Thomas Mendel</td>\n",
              "      <td>Thomas Mendel ( 13 December 1801 in Lichtenber...</td>\n",
              "      <td>1</td>\n",
              "      <td>2258</td>\n",
              "    </tr>\n",
              "  </tbody>\n",
              "</table>\n",
              "</div>"
            ],
            "text/plain": [
              "                                                Title  ... Length\n",
              "327                           William Boynton Beechey  ...   3422\n",
              "720                               Melisides de Barros  ...   3645\n",
              "830  José T C3 A9rico Cardona de Las Casas Villanueva  ...   1879\n",
              "530                                  Vladimir Bukovin  ...   1613\n",
              "311                                       Josef Kring  ...   6552\n",
              "737                                        Leon Petri  ...   1119\n",
              "536                                 Norman D. Wofford  ...   1374\n",
              "730                              Paul Konrad Kurloten  ...   3813\n",
              "301                                     Thomas Mendel  ...   2258\n",
              "\n",
              "[9 rows x 4 columns]"
            ]
          },
          "metadata": {
            "tags": []
          },
          "execution_count": 94
        }
      ]
    },
    {
      "cell_type": "markdown",
      "metadata": {
        "id": "9IRU6U5U_AVl",
        "colab_type": "text"
      },
      "source": [
        "# Text Pre-Processing"
      ]
    },
    {
      "cell_type": "code",
      "metadata": {
        "id": "j01PvGKu_DM4",
        "colab_type": "code",
        "colab": {}
      },
      "source": [
        "# Tokenizing the text - converting the words, letters into counts or numbers. \n",
        "# We dont need to explicitly remove the punctuations. we have an inbuilt option in Tokenizer for this purpose\n",
        "max_features = 4500\n",
        "tokenizer = Tokenizer(num_words = max_features, filters='!\"#$%&()*+,-./:;<=>?@[\\\\]^_`{|}~\\t\\n', lower = True, split = ' ')\n",
        "tokenizer.fit_on_texts(texts = sub_train['Corpus'])\n",
        "X = tokenizer.texts_to_sequences(texts = sub_train['Corpus'])"
      ],
      "execution_count": 0,
      "outputs": []
    },
    {
      "cell_type": "code",
      "metadata": {
        "id": "KfTPxmSY_VUS",
        "colab_type": "code",
        "colab": {}
      },
      "source": [
        "# now applying padding to make them even shaped.\n",
        "X = pad_sequences(sequences = X, maxlen = max_features, padding = 'pre')"
      ],
      "execution_count": 0,
      "outputs": []
    },
    {
      "cell_type": "code",
      "metadata": {
        "id": "8PQPapcb_dFQ",
        "colab_type": "code",
        "outputId": "8468d155-2e93-4477-8a0b-ea105ade2021",
        "colab": {
          "base_uri": "https://localhost:8080/",
          "height": 51
        }
      },
      "source": [
        "print(X.shape)\n",
        "y = sub_train['Label'].values\n",
        "print(y.shape)"
      ],
      "execution_count": 97,
      "outputs": [
        {
          "output_type": "stream",
          "text": [
            "(768, 4500)\n",
            "(768,)\n"
          ],
          "name": "stdout"
        }
      ]
    },
    {
      "cell_type": "code",
      "metadata": {
        "id": "ozQNuHDB_gOl",
        "colab_type": "code",
        "colab": {}
      },
      "source": [
        "# splitting the data training data for training and validation.\n",
        "X_train, X_test, y_train, y_test = train_test_split(X, y, test_size = 0.2, random_state = 101)"
      ],
      "execution_count": 0,
      "outputs": []
    },
    {
      "cell_type": "markdown",
      "metadata": {
        "id": "XAjS16Rw_pWx",
        "colab_type": "text"
      },
      "source": [
        "# Build the Model"
      ]
    },
    {
      "cell_type": "code",
      "metadata": {
        "id": "UIFeGHBX_hUn",
        "colab_type": "code",
        "colab": {}
      },
      "source": [
        "# LSTM Neural Network\n",
        "lstm_model = Sequential(name = 'lstm_nn_model')\n",
        "lstm_model.add(layer = Embedding(input_dim = max_features, output_dim = 120, name = '1st_layer'))\n",
        "lstm_model.add(layer = LSTM(units = 120, dropout = 0.2, recurrent_dropout = 0.2, name = '2nd_layer'))\n",
        "# lstm_model.add(layer = Dropout(rate = 0.5, name = '3rd_layer'))\n",
        "lstm_model.add(layer = Dense(units = 120,  activation = 'relu', name = '4th_layer'))\n",
        "lstm_model.add(layer = Dropout(rate = 0.5, name = '5th_layer'))\n",
        "lstm_model.add(layer = Dense(units = len(set(y)),  activation = 'sigmoid', name = 'output_layer'))\n",
        "# compiling the model\n",
        "lstm_model.compile(optimizer = 'adam', loss = 'sparse_categorical_crossentropy', metrics = ['accuracy'])"
      ],
      "execution_count": 0,
      "outputs": []
    },
    {
      "cell_type": "code",
      "metadata": {
        "id": "lqQyRmphyQ3e",
        "colab_type": "code",
        "colab": {}
      },
      "source": [
        "from keras.callbacks import Callback\n",
        "class TestCallback(Callback):\n",
        "    def __init__(self, test_data):\n",
        "        self.test_data = test_data\n",
        "        self.lossList =[]\n",
        "        self.accList = []\n",
        "    def on_batch_end(self, batch, logs={}):\n",
        "        x, y = self.test_data\n",
        "        loss, acc = self.model.evaluate(x, y, verbose=0)\n",
        "        self.lossList.append(loss)\n",
        "        self.accList.append(acc)\n",
        "        print('\\nTesting loss: {}, acc: {}\\n'.format(loss, acc))"
      ],
      "execution_count": 0,
      "outputs": []
    },
    {
      "cell_type": "code",
      "metadata": {
        "id": "Vyfqwr4a_v6m",
        "colab_type": "code",
        "outputId": "42e5586e-68d0-4780-c9ee-62148d6de3f7",
        "colab": {
          "base_uri": "https://localhost:8080/",
          "height": 1000
        }
      },
      "source": [
        "lstm_model_fit = lstm_model.fit(X_train, y_train, epochs = 1,callbacks=[TestCallback((X_test, y_test))],validation_data=(X_test, y_test))"
      ],
      "execution_count": 101,
      "outputs": [
        {
          "output_type": "stream",
          "text": [
            "Train on 614 samples, validate on 154 samples\n",
            "\n",
            "Testing loss: 0.6893296590099087, acc: 0.9415584206581116\n",
            "\n",
            "WARNING:tensorflow:Method (on_train_batch_end) is slow compared to the batch update (7.807931). Check your callbacks.\n",
            " 32/614 [>.............................] - ETA: 4:49 - loss: 0.6941 - acc: 0.4062\n",
            "Testing loss: 0.6840932942056036, acc: 0.9545454382896423\n",
            "\n",
            "WARNING:tensorflow:Method (on_train_batch_end) is slow compared to the batch update (7.663766). Check your callbacks.\n",
            " 64/614 [==>...........................] - ETA: 4:25 - loss: 0.6926 - acc: 0.9140\n",
            "Testing loss: 0.6781060811761138, acc: 0.9545454382896423\n",
            "\n",
            "WARNING:tensorflow:Method (on_train_batch_end) is slow compared to the batch update (7.519601). Check your callbacks.\n",
            " 96/614 [===>..........................] - ETA: 4:06 - loss: 0.6895 - acc: 0.9570\n",
            "Testing loss: 0.6708417712868034, acc: 0.9545454382896423\n",
            "\n",
            "WARNING:tensorflow:Method (on_train_batch_end) is slow compared to the batch update (7.499196). Check your callbacks.\n",
            "128/614 [=====>........................] - ETA: 3:50 - loss: 0.6866 - acc: 0.9570\n",
            "Testing loss: 0.6617310171003465, acc: 0.9545454382896423\n",
            "\n",
            "WARNING:tensorflow:Method (on_train_batch_end) is slow compared to the batch update (7.517327). Check your callbacks.\n",
            "160/614 [======>.......................] - ETA: 3:34 - loss: 0.6834 - acc: 0.9516\n",
            "Testing loss: 0.6499798266918628, acc: 0.9545454382896423\n",
            "\n",
            "WARNING:tensorflow:Method (on_train_batch_end) is slow compared to the batch update (7.518464). Check your callbacks.\n",
            "192/614 [========>.....................] - ETA: 3:18 - loss: 0.6794 - acc: 0.9570\n",
            "Testing loss: 0.6341748191164686, acc: 0.9545454382896423\n",
            "\n",
            "WARNING:tensorflow:Method (on_train_batch_end) is slow compared to the batch update (7.517327). Check your callbacks.\n",
            "224/614 [=========>....................] - ETA: 3:03 - loss: 0.6750 - acc: 0.9570\n",
            "Testing loss: 0.6120001464695125, acc: 0.9545454382896423\n",
            "\n",
            "WARNING:tensorflow:Method (on_train_batch_end) is slow compared to the batch update (7.518464). Check your callbacks.\n",
            "256/614 [===========>..................] - ETA: 2:48 - loss: 0.6692 - acc: 0.9570\n",
            "Testing loss: 0.5782704523631504, acc: 0.9545454382896423\n",
            "\n",
            "WARNING:tensorflow:Method (on_train_batch_end) is slow compared to the batch update (7.519601). Check your callbacks.\n",
            "288/614 [=============>................] - ETA: 2:33 - loss: 0.6617 - acc: 0.9624\n",
            "Testing loss: 0.523067784773839, acc: 0.9545454382896423\n",
            "\n",
            "WARNING:tensorflow:Method (on_train_batch_end) is slow compared to the batch update (7.520987). Check your callbacks.\n",
            "320/614 [==============>...............] - ETA: 2:18 - loss: 0.6512 - acc: 0.9624\n",
            "Testing loss: 0.41235860524239476, acc: 0.9545454382896423\n",
            "\n",
            "WARNING:tensorflow:Method (on_train_batch_end) is slow compared to the batch update (7.518464). Check your callbacks.\n",
            "352/614 [================>.............] - ETA: 2:03 - loss: 0.6390 - acc: 0.9570\n",
            "Testing loss: 0.21759357622691564, acc: 0.9545454382896423\n",
            "\n",
            "WARNING:tensorflow:Method (on_train_batch_end) is slow compared to the batch update (7.513475). Check your callbacks.\n",
            "384/614 [=================>............] - ETA: 1:48 - loss: 0.6196 - acc: 0.9516\n",
            "Testing loss: 0.19439413137250133, acc: 0.9545454382896423\n",
            "\n",
            "WARNING:tensorflow:Method (on_train_batch_end) is slow compared to the batch update (7.514612). Check your callbacks.\n",
            "416/614 [===================>..........] - ETA: 1:33 - loss: 0.5860 - acc: 0.9570\n",
            "Testing loss: 0.22625047742546378, acc: 0.9545454382896423\n",
            "\n",
            "WARNING:tensorflow:Method (on_train_batch_end) is slow compared to the batch update (7.519850). Check your callbacks.\n",
            "448/614 [====================>.........] - ETA: 1:18 - loss: 0.5613 - acc: 0.9516\n",
            "Testing loss: 0.2505782484621197, acc: 0.9545454382896423\n",
            "\n",
            "WARNING:tensorflow:Method (on_train_batch_end) is slow compared to the batch update (7.517135). Check your callbacks.\n",
            "480/614 [======================>.......] - ETA: 1:03 - loss: 0.5327 - acc: 0.9570\n",
            "Testing loss: 0.25694187807959395, acc: 0.9545454382896423\n",
            "\n",
            "WARNING:tensorflow:Method (on_train_batch_end) is slow compared to the batch update (7.510760). Check your callbacks.\n",
            "512/614 [========================>.....] - ETA: 47s - loss: 0.5206 - acc: 0.9516 \n",
            "Testing loss: 0.25756260825248506, acc: 0.9545454382896423\n",
            "\n",
            "WARNING:tensorflow:Method (on_train_batch_end) is slow compared to the batch update (7.510760). Check your callbacks.\n",
            "544/614 [=========================>....] - ETA: 32s - loss: 0.4978 - acc: 0.9570\n",
            "Testing loss: 0.2529629434083963, acc: 0.9545454382896423\n",
            "\n",
            "WARNING:tensorflow:Method (on_train_batch_end) is slow compared to the batch update (7.498124). Check your callbacks.\n",
            "576/614 [===========================>..] - ETA: 17s - loss: 0.4800 - acc: 0.9570\n",
            "Testing loss: 0.24146698221757815, acc: 0.9545454382896423\n",
            "\n",
            "WARNING:tensorflow:Method (on_train_batch_end) is slow compared to the batch update (7.486591). Check your callbacks.\n",
            "608/614 [============================>.] - ETA: 2s - loss: 0.4794 - acc: 0.9462 \n",
            "Testing loss: 0.2325997232616722, acc: 0.9545454382896423\n",
            "\n",
            "WARNING:tensorflow:Method (on_train_batch_end) is slow compared to the batch update (7.486591). Check your callbacks.\n",
            "614/614 [==============================] - 308s 501ms/sample - loss: 0.4748 - acc: 0.9563 - val_loss: 0.2326 - val_acc: 0.9545\n"
          ],
          "name": "stdout"
        }
      ]
    },
    {
      "cell_type": "code",
      "metadata": {
        "id": "nHA7dcNh9sAq",
        "colab_type": "code",
        "colab": {
          "base_uri": "https://localhost:8080/",
          "height": 85
        },
        "outputId": "9fcb96e8-471a-4cdf-c33d-272346978637"
      },
      "source": [
        "import matplotlib.pyplot as plt\n",
        "lstm_model_fit.history"
      ],
      "execution_count": 102,
      "outputs": [
        {
          "output_type": "execute_result",
          "data": {
            "text/plain": [
              "{'acc': [0.95625],\n",
              " 'loss': [0.47479185678295377],\n",
              " 'val_acc': [0.95454544],\n",
              " 'val_loss': [0.2325997371952255]}"
            ]
          },
          "metadata": {
            "tags": []
          },
          "execution_count": 102
        }
      ]
    },
    {
      "cell_type": "markdown",
      "metadata": {
        "id": "eoe-lVbjO_f3",
        "colab_type": "text"
      },
      "source": [
        "#Prepare Test Data"
      ]
    },
    {
      "cell_type": "code",
      "metadata": {
        "id": "GyjrkiopPBgu",
        "colab_type": "code",
        "outputId": "9eb824e0-8be0-4f82-97e3-caaf8d6d0608",
        "colab": {
          "base_uri": "https://localhost:8080/",
          "height": 34
        }
      },
      "source": [
        "print(sub_test.shape)"
      ],
      "execution_count": 103,
      "outputs": [
        {
          "output_type": "stream",
          "text": [
            "(192, 4)\n"
          ],
          "name": "stdout"
        }
      ]
    },
    {
      "cell_type": "code",
      "metadata": {
        "id": "E7ARpie4Phdl",
        "colab_type": "code",
        "colab": {}
      },
      "source": [
        "#fill missing values from test\n",
        "# test_data = test_data.fillna(' ')\n",
        "# print(test_data.shape)\n",
        "# test_data.isnull().sum()"
      ],
      "execution_count": 0,
      "outputs": []
    },
    {
      "cell_type": "code",
      "metadata": {
        "id": "amejzIztPi6E",
        "colab_type": "code",
        "colab": {}
      },
      "source": [
        "# tokenize test data\n",
        "tokenizer.fit_on_texts(texts = sub_test['Corpus'])\n",
        "test_text = tokenizer.texts_to_sequences(texts = sub_test['Corpus'])"
      ],
      "execution_count": 0,
      "outputs": []
    },
    {
      "cell_type": "code",
      "metadata": {
        "id": "D2PL0JWQPqgX",
        "colab_type": "code",
        "colab": {}
      },
      "source": [
        "test_text = pad_sequences(sequences = test_text, maxlen = max_features, padding = 'pre')"
      ],
      "execution_count": 0,
      "outputs": []
    },
    {
      "cell_type": "code",
      "metadata": {
        "id": "4MBLU1kEP2Cn",
        "colab_type": "code",
        "colab": {}
      },
      "source": [
        "lstm_prediction = lstm_model.predict_classes(test_text)"
      ],
      "execution_count": 0,
      "outputs": []
    },
    {
      "cell_type": "code",
      "metadata": {
        "id": "PIYYih4EP6Wt",
        "colab_type": "code",
        "colab": {}
      },
      "source": [
        "prediction_outputs = pd.DataFrame({'Title':sub_test.Title, 'Label':lstm_prediction})"
      ],
      "execution_count": 0,
      "outputs": []
    },
    {
      "cell_type": "code",
      "metadata": {
        "id": "kJgr9lJQQ6lg",
        "colab_type": "code",
        "outputId": "e5c6d64e-cd78-4678-970c-bd7da008597a",
        "colab": {
          "base_uri": "https://localhost:8080/",
          "height": 34
        }
      },
      "source": [
        "prediction_outputs.shape"
      ],
      "execution_count": 109,
      "outputs": [
        {
          "output_type": "execute_result",
          "data": {
            "text/plain": [
              "(192, 2)"
            ]
          },
          "metadata": {
            "tags": []
          },
          "execution_count": 109
        }
      ]
    },
    {
      "cell_type": "code",
      "metadata": {
        "id": "2jqSqoRhQ-q0",
        "colab_type": "code",
        "outputId": "df43a129-f395-45dd-a4e6-fdb07b9f1b42",
        "colab": {
          "base_uri": "https://localhost:8080/",
          "height": 49
        }
      },
      "source": [
        "prediction_outputs[prediction_outputs['Label']==1]"
      ],
      "execution_count": 116,
      "outputs": [
        {
          "output_type": "execute_result",
          "data": {
            "text/html": [
              "<div>\n",
              "<style scoped>\n",
              "    .dataframe tbody tr th:only-of-type {\n",
              "        vertical-align: middle;\n",
              "    }\n",
              "\n",
              "    .dataframe tbody tr th {\n",
              "        vertical-align: top;\n",
              "    }\n",
              "\n",
              "    .dataframe thead th {\n",
              "        text-align: right;\n",
              "    }\n",
              "</style>\n",
              "<table border=\"1\" class=\"dataframe\">\n",
              "  <thead>\n",
              "    <tr style=\"text-align: right;\">\n",
              "      <th></th>\n",
              "      <th>Title</th>\n",
              "      <th>Label</th>\n",
              "    </tr>\n",
              "  </thead>\n",
              "  <tbody>\n",
              "  </tbody>\n",
              "</table>\n",
              "</div>"
            ],
            "text/plain": [
              "Empty DataFrame\n",
              "Columns: [Title, Label]\n",
              "Index: []"
            ]
          },
          "metadata": {
            "tags": []
          },
          "execution_count": 116
        }
      ]
    },
    {
      "cell_type": "markdown",
      "metadata": {
        "id": "c4dllLB0Rm2Y",
        "colab_type": "text"
      },
      "source": [
        "#Check Accuracies"
      ]
    },
    {
      "cell_type": "code",
      "metadata": {
        "id": "6eKS6YLuRpQL",
        "colab_type": "code",
        "colab": {}
      },
      "source": [
        "from sklearn.metrics import accuracy_score"
      ],
      "execution_count": 0,
      "outputs": []
    },
    {
      "cell_type": "code",
      "metadata": {
        "id": "3gStPHiFCOaO",
        "colab_type": "code",
        "colab": {
          "base_uri": "https://localhost:8080/",
          "height": 328
        },
        "outputId": "1243d8af-262f-4a78-e734-3df4917b65ee"
      },
      "source": [
        "sub_test[sub_test['Label'] == 1]"
      ],
      "execution_count": 115,
      "outputs": [
        {
          "output_type": "execute_result",
          "data": {
            "text/html": [
              "<div>\n",
              "<style scoped>\n",
              "    .dataframe tbody tr th:only-of-type {\n",
              "        vertical-align: middle;\n",
              "    }\n",
              "\n",
              "    .dataframe tbody tr th {\n",
              "        vertical-align: top;\n",
              "    }\n",
              "\n",
              "    .dataframe thead th {\n",
              "        text-align: right;\n",
              "    }\n",
              "</style>\n",
              "<table border=\"1\" class=\"dataframe\">\n",
              "  <thead>\n",
              "    <tr style=\"text-align: right;\">\n",
              "      <th></th>\n",
              "      <th>Title</th>\n",
              "      <th>Corpus</th>\n",
              "      <th>Label</th>\n",
              "      <th>Length</th>\n",
              "    </tr>\n",
              "  </thead>\n",
              "  <tbody>\n",
              "    <tr>\n",
              "      <th>327</th>\n",
              "      <td>William Boynton Beechey</td>\n",
              "      <td>William Boynton Beechey ( 17 July 1839 – 26 Ma...</td>\n",
              "      <td>1</td>\n",
              "      <td>3422</td>\n",
              "    </tr>\n",
              "    <tr>\n",
              "      <th>720</th>\n",
              "      <td>Melisides de Barros</td>\n",
              "      <td>Melisides de Barros ( Spanish : M. Barros ; 8 ...</td>\n",
              "      <td>1</td>\n",
              "      <td>3645</td>\n",
              "    </tr>\n",
              "    <tr>\n",
              "      <th>830</th>\n",
              "      <td>José T C3 A9rico Cardona de Las Casas Villanueva</td>\n",
              "      <td>Jose Tárico Cardona de Las Casas Villanueva ( ...</td>\n",
              "      <td>1</td>\n",
              "      <td>1879</td>\n",
              "    </tr>\n",
              "    <tr>\n",
              "      <th>530</th>\n",
              "      <td>Vladimir Bukovin</td>\n",
              "      <td>Vladimir Aleksandrovich Bukovin ( Russian : Вл...</td>\n",
              "      <td>1</td>\n",
              "      <td>1613</td>\n",
              "    </tr>\n",
              "    <tr>\n",
              "      <th>311</th>\n",
              "      <td>Josef Kring</td>\n",
              "      <td>Josef Kring ( 20 September 1863 in Hegerfurt, ...</td>\n",
              "      <td>1</td>\n",
              "      <td>6552</td>\n",
              "    </tr>\n",
              "    <tr>\n",
              "      <th>737</th>\n",
              "      <td>Leon Petri</td>\n",
              "      <td>Leonor Petri ( 15 July 1843 – 24 August 1912 )...</td>\n",
              "      <td>1</td>\n",
              "      <td>1119</td>\n",
              "    </tr>\n",
              "    <tr>\n",
              "      <th>536</th>\n",
              "      <td>Norman D. Wofford</td>\n",
              "      <td>Norman D. Wofford ( April 9, 1909 – May 23, 19...</td>\n",
              "      <td>1</td>\n",
              "      <td>1374</td>\n",
              "    </tr>\n",
              "    <tr>\n",
              "      <th>730</th>\n",
              "      <td>Paul Konrad Kurloten</td>\n",
              "      <td>Paul Konrad Kurloten ( Russian : Филовид Понов...</td>\n",
              "      <td>1</td>\n",
              "      <td>3813</td>\n",
              "    </tr>\n",
              "    <tr>\n",
              "      <th>301</th>\n",
              "      <td>Thomas Mendel</td>\n",
              "      <td>Thomas Mendel ( 13 December 1801 in Lichtenber...</td>\n",
              "      <td>1</td>\n",
              "      <td>2258</td>\n",
              "    </tr>\n",
              "  </tbody>\n",
              "</table>\n",
              "</div>"
            ],
            "text/plain": [
              "                                                Title  ... Length\n",
              "327                           William Boynton Beechey  ...   3422\n",
              "720                               Melisides de Barros  ...   3645\n",
              "830  José T C3 A9rico Cardona de Las Casas Villanueva  ...   1879\n",
              "530                                  Vladimir Bukovin  ...   1613\n",
              "311                                       Josef Kring  ...   6552\n",
              "737                                        Leon Petri  ...   1119\n",
              "536                                 Norman D. Wofford  ...   1374\n",
              "730                              Paul Konrad Kurloten  ...   3813\n",
              "301                                     Thomas Mendel  ...   2258\n",
              "\n",
              "[9 rows x 4 columns]"
            ]
          },
          "metadata": {
            "tags": []
          },
          "execution_count": 115
        }
      ]
    },
    {
      "cell_type": "code",
      "metadata": {
        "id": "8lcF_MuyRqJL",
        "colab_type": "code",
        "colab": {}
      },
      "source": [
        "y_preds = list(prediction_outputs['Label'])\n",
        "y_true = list(sub_test['Label'])"
      ],
      "execution_count": 0,
      "outputs": []
    },
    {
      "cell_type": "code",
      "metadata": {
        "id": "HkF2193URwmH",
        "colab_type": "code",
        "outputId": "175b3099-22ba-4df2-87f4-ae0d2dccf242",
        "colab": {
          "base_uri": "https://localhost:8080/",
          "height": 34
        }
      },
      "source": [
        "accuracy_score(y_true,y_preds)"
      ],
      "execution_count": 114,
      "outputs": [
        {
          "output_type": "execute_result",
          "data": {
            "text/plain": [
              "0.953125"
            ]
          },
          "metadata": {
            "tags": []
          },
          "execution_count": 114
        }
      ]
    },
    {
      "cell_type": "code",
      "metadata": {
        "id": "ksMzaTciR9II",
        "colab_type": "code",
        "outputId": "58cd16f3-e76f-466a-a952-4b7e780de9e4",
        "colab": {
          "base_uri": "https://localhost:8080/",
          "height": 204
        }
      },
      "source": [
        "validation_data.head()"
      ],
      "execution_count": 0,
      "outputs": [
        {
          "output_type": "execute_result",
          "data": {
            "text/html": [
              "<div>\n",
              "<style scoped>\n",
              "    .dataframe tbody tr th:only-of-type {\n",
              "        vertical-align: middle;\n",
              "    }\n",
              "\n",
              "    .dataframe tbody tr th {\n",
              "        vertical-align: top;\n",
              "    }\n",
              "\n",
              "    .dataframe thead th {\n",
              "        text-align: right;\n",
              "    }\n",
              "</style>\n",
              "<table border=\"1\" class=\"dataframe\">\n",
              "  <thead>\n",
              "    <tr style=\"text-align: right;\">\n",
              "      <th></th>\n",
              "      <th>Title</th>\n",
              "      <th>Corpus</th>\n",
              "      <th>Label</th>\n",
              "    </tr>\n",
              "  </thead>\n",
              "  <tbody>\n",
              "    <tr>\n",
              "      <th>1</th>\n",
              "      <td>Robert Lightfoot (priest)</td>\n",
              "      <td>Robert Henry Lightfoot ( 30 September 1883 – 2...</td>\n",
              "      <td>0</td>\n",
              "    </tr>\n",
              "    <tr>\n",
              "      <th>2</th>\n",
              "      <td>Jean Pierre Moquette</td>\n",
              "      <td>Jean Pierre Moquette ( July 5 , 1856 – Februar...</td>\n",
              "      <td>0</td>\n",
              "    </tr>\n",
              "    <tr>\n",
              "      <th>3</th>\n",
              "      <td>John Willock</td>\n",
              "      <td>John Willock ( or Willocks or Willox ) ( c. 15...</td>\n",
              "      <td>0</td>\n",
              "    </tr>\n",
              "    <tr>\n",
              "      <th>4</th>\n",
              "      <td>David Packard</td>\n",
              "      <td>David Packard ( PAK-ərd ; September 7 , 1912 –...</td>\n",
              "      <td>0</td>\n",
              "    </tr>\n",
              "    <tr>\n",
              "      <th>5</th>\n",
              "      <td>William F. Beck</td>\n",
              "      <td>William Frederick Beck ( August 28 , 1904 – Oc...</td>\n",
              "      <td>0</td>\n",
              "    </tr>\n",
              "  </tbody>\n",
              "</table>\n",
              "</div>"
            ],
            "text/plain": [
              "                       Title  ... Label\n",
              "1  Robert Lightfoot (priest)  ...     0\n",
              "2       Jean Pierre Moquette  ...     0\n",
              "3               John Willock  ...     0\n",
              "4              David Packard  ...     0\n",
              "5            William F. Beck  ...     0\n",
              "\n",
              "[5 rows x 3 columns]"
            ]
          },
          "metadata": {
            "tags": []
          },
          "execution_count": 67
        }
      ]
    },
    {
      "cell_type": "code",
      "metadata": {
        "id": "43_P7dhFPCJn",
        "colab_type": "code",
        "colab": {}
      },
      "source": [
        ""
      ],
      "execution_count": 0,
      "outputs": []
    }
  ]
}